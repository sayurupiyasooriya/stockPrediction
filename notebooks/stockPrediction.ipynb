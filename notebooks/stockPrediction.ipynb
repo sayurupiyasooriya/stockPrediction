{
 "cells": [
  {
   "cell_type": "code",
   "execution_count": 45,
   "id": "88cb324b",
   "metadata": {},
   "outputs": [],
   "source": [
    "import pandas as pd\n",
    "import numpy as np\n",
    "import matplotlib.pyplot as plt\n",
    "import pandas_datareader as data\n",
    "from sklearn.preprocessing import MinMaxScaler\n",
    "from keras.models import Sequential, load_model\n",
    "from keras.layers import LSTM, Dense, Dropout"
   ]
  },
  {
   "cell_type": "code",
   "execution_count": 46,
   "id": "7eab838c",
   "metadata": {},
   "outputs": [
    {
     "data": {
      "text/html": [
       "<div>\n",
       "<style scoped>\n",
       "    .dataframe tbody tr th:only-of-type {\n",
       "        vertical-align: middle;\n",
       "    }\n",
       "\n",
       "    .dataframe tbody tr th {\n",
       "        vertical-align: top;\n",
       "    }\n",
       "\n",
       "    .dataframe thead th {\n",
       "        text-align: right;\n",
       "    }\n",
       "</style>\n",
       "<table border=\"1\" class=\"dataframe\">\n",
       "  <thead>\n",
       "    <tr style=\"text-align: right;\">\n",
       "      <th></th>\n",
       "      <th>High</th>\n",
       "      <th>Low</th>\n",
       "      <th>Open</th>\n",
       "      <th>Close</th>\n",
       "      <th>Volume</th>\n",
       "      <th>Adj Close</th>\n",
       "    </tr>\n",
       "    <tr>\n",
       "      <th>Date</th>\n",
       "      <th></th>\n",
       "      <th></th>\n",
       "      <th></th>\n",
       "      <th></th>\n",
       "      <th></th>\n",
       "      <th></th>\n",
       "    </tr>\n",
       "  </thead>\n",
       "  <tbody>\n",
       "    <tr>\n",
       "      <th>2009-12-31</th>\n",
       "      <td>7.619643</td>\n",
       "      <td>7.520000</td>\n",
       "      <td>7.611786</td>\n",
       "      <td>7.526071</td>\n",
       "      <td>352410800.0</td>\n",
       "      <td>6.444380</td>\n",
       "    </tr>\n",
       "    <tr>\n",
       "      <th>2010-01-04</th>\n",
       "      <td>7.660714</td>\n",
       "      <td>7.585000</td>\n",
       "      <td>7.622500</td>\n",
       "      <td>7.643214</td>\n",
       "      <td>493729600.0</td>\n",
       "      <td>6.544687</td>\n",
       "    </tr>\n",
       "    <tr>\n",
       "      <th>2010-01-05</th>\n",
       "      <td>7.699643</td>\n",
       "      <td>7.616071</td>\n",
       "      <td>7.664286</td>\n",
       "      <td>7.656429</td>\n",
       "      <td>601904800.0</td>\n",
       "      <td>6.556002</td>\n",
       "    </tr>\n",
       "    <tr>\n",
       "      <th>2010-01-06</th>\n",
       "      <td>7.686786</td>\n",
       "      <td>7.526786</td>\n",
       "      <td>7.656429</td>\n",
       "      <td>7.534643</td>\n",
       "      <td>552160000.0</td>\n",
       "      <td>6.451721</td>\n",
       "    </tr>\n",
       "    <tr>\n",
       "      <th>2010-01-07</th>\n",
       "      <td>7.571429</td>\n",
       "      <td>7.466071</td>\n",
       "      <td>7.562500</td>\n",
       "      <td>7.520714</td>\n",
       "      <td>477131200.0</td>\n",
       "      <td>6.439794</td>\n",
       "    </tr>\n",
       "    <tr>\n",
       "      <th>...</th>\n",
       "      <td>...</td>\n",
       "      <td>...</td>\n",
       "      <td>...</td>\n",
       "      <td>...</td>\n",
       "      <td>...</td>\n",
       "      <td>...</td>\n",
       "    </tr>\n",
       "    <tr>\n",
       "      <th>2021-12-27</th>\n",
       "      <td>180.419998</td>\n",
       "      <td>177.070007</td>\n",
       "      <td>177.089996</td>\n",
       "      <td>180.330002</td>\n",
       "      <td>74919600.0</td>\n",
       "      <td>180.100540</td>\n",
       "    </tr>\n",
       "    <tr>\n",
       "      <th>2021-12-28</th>\n",
       "      <td>181.330002</td>\n",
       "      <td>178.529999</td>\n",
       "      <td>180.160004</td>\n",
       "      <td>179.289993</td>\n",
       "      <td>79144300.0</td>\n",
       "      <td>179.061859</td>\n",
       "    </tr>\n",
       "    <tr>\n",
       "      <th>2021-12-29</th>\n",
       "      <td>180.630005</td>\n",
       "      <td>178.139999</td>\n",
       "      <td>179.330002</td>\n",
       "      <td>179.380005</td>\n",
       "      <td>62348900.0</td>\n",
       "      <td>179.151749</td>\n",
       "    </tr>\n",
       "    <tr>\n",
       "      <th>2021-12-30</th>\n",
       "      <td>180.570007</td>\n",
       "      <td>178.089996</td>\n",
       "      <td>179.470001</td>\n",
       "      <td>178.199997</td>\n",
       "      <td>59773000.0</td>\n",
       "      <td>177.973251</td>\n",
       "    </tr>\n",
       "    <tr>\n",
       "      <th>2021-12-31</th>\n",
       "      <td>179.229996</td>\n",
       "      <td>177.259995</td>\n",
       "      <td>178.089996</td>\n",
       "      <td>177.570007</td>\n",
       "      <td>64062300.0</td>\n",
       "      <td>177.344055</td>\n",
       "    </tr>\n",
       "  </tbody>\n",
       "</table>\n",
       "<p>3022 rows × 6 columns</p>\n",
       "</div>"
      ],
      "text/plain": [
       "                  High         Low        Open       Close       Volume  \\\n",
       "Date                                                                      \n",
       "2009-12-31    7.619643    7.520000    7.611786    7.526071  352410800.0   \n",
       "2010-01-04    7.660714    7.585000    7.622500    7.643214  493729600.0   \n",
       "2010-01-05    7.699643    7.616071    7.664286    7.656429  601904800.0   \n",
       "2010-01-06    7.686786    7.526786    7.656429    7.534643  552160000.0   \n",
       "2010-01-07    7.571429    7.466071    7.562500    7.520714  477131200.0   \n",
       "...                ...         ...         ...         ...          ...   \n",
       "2021-12-27  180.419998  177.070007  177.089996  180.330002   74919600.0   \n",
       "2021-12-28  181.330002  178.529999  180.160004  179.289993   79144300.0   \n",
       "2021-12-29  180.630005  178.139999  179.330002  179.380005   62348900.0   \n",
       "2021-12-30  180.570007  178.089996  179.470001  178.199997   59773000.0   \n",
       "2021-12-31  179.229996  177.259995  178.089996  177.570007   64062300.0   \n",
       "\n",
       "             Adj Close  \n",
       "Date                    \n",
       "2009-12-31    6.444380  \n",
       "2010-01-04    6.544687  \n",
       "2010-01-05    6.556002  \n",
       "2010-01-06    6.451721  \n",
       "2010-01-07    6.439794  \n",
       "...                ...  \n",
       "2021-12-27  180.100540  \n",
       "2021-12-28  179.061859  \n",
       "2021-12-29  179.151749  \n",
       "2021-12-30  177.973251  \n",
       "2021-12-31  177.344055  \n",
       "\n",
       "[3022 rows x 6 columns]"
      ]
     },
     "execution_count": 46,
     "metadata": {},
     "output_type": "execute_result"
    }
   ],
   "source": [
    "start =\"2010-01-01\"\n",
    "end = \"2022-01-01\"\n",
    "df = pd.read_csv('../TSLA.csv')\n",
    "#data.DataReader(\"AAPL\", \"yahoo\", start, end)"
   ]
  },
  {
   "cell_type": "code",
   "execution_count": 41,
   "id": "6298ce15",
   "metadata": {},
   "outputs": [
    {
     "name": "stdout",
     "output_type": "stream",
     "text": [
      "[[ 4.392   ]\n",
      " [ 3.84    ]\n",
      " [ 3.222   ]\n",
      " ...\n",
      " [86.075996]\n",
      " [82.940002]\n",
      " [83.666   ]]\n"
     ]
    }
   ],
   "source": [
    "#feture extraction\n",
    "df.shape\n",
    "df = df['Close'].values\n",
    "df = df.reshape(-1, 1)"
   ]
  },
  {
   "cell_type": "code",
   "execution_count": 25,
   "id": "79498515",
   "metadata": {},
   "outputs": [],
   "source": [
    "#split trainnig and testing dataset 80% for training and 20% for testing\n",
    "dataset_train = np.array(df[:int(df.shape[0]*0.8)])\n",
    "dataset_test = np.array(df[int(df.shape[0]*0.8):])"
   ]
  },
  {
   "cell_type": "code",
   "execution_count": 26,
   "id": "79b051e1",
   "metadata": {},
   "outputs": [],
   "source": [
    "#scale data using MinmaxScaller\n",
    "scaler = MinMaxScaler(feature_range=(0,1))\n",
    "dataset_train = scaler.fit_transform(dataset_train)\n",
    "dataset_test = scaler.transform(dataset_test)"
   ]
  },
  {
   "cell_type": "code",
   "execution_count": 27,
   "id": "0cbb36e1",
   "metadata": {},
   "outputs": [],
   "source": [
    "#create dataset function\n",
    "def create_dataset(df):\n",
    "    x = []\n",
    "    y = []\n",
    "    for i in range(50, df.shape[0]):\n",
    "        x.append(df[i-50:i, 0])\n",
    "        y.append(df[i, 0])\n",
    "    x = np.array(x)\n",
    "    y = np.array(y)\n",
    "    return x,y"
   ]
  },
  {
   "cell_type": "code",
   "execution_count": 28,
   "id": "6114dfcf",
   "metadata": {},
   "outputs": [],
   "source": [
    "#create training and testing data\n",
    "x_train, y_train = create_dataset(dataset_train)\n",
    "x_test, y_test = create_dataset(dataset_test)"
   ]
  },
  {
   "cell_type": "code",
   "execution_count": 29,
   "id": "a2de6c22",
   "metadata": {},
   "outputs": [],
   "source": [
    "#reshape dataset\n",
    "x_train = np.reshape(x_train, (x_train.shape[0], x_train.shape[1], 1))\n",
    "x_test = np.reshape(x_test, (x_test.shape[0], x_test.shape[1], 1))"
   ]
  },
  {
   "cell_type": "code",
   "execution_count": 30,
   "id": "d390bdc3",
   "metadata": {},
   "outputs": [
    {
     "name": "stderr",
     "output_type": "stream",
     "text": [
      "2022-05-01 16:28:07.192890: W tensorflow/stream_executor/platform/default/dso_loader.cc:64] Could not load dynamic library 'libcuda.so.1'; dlerror: libcuda.so.1: cannot open shared object file: No such file or directory\n",
      "2022-05-01 16:28:07.192928: W tensorflow/stream_executor/cuda/cuda_driver.cc:269] failed call to cuInit: UNKNOWN ERROR (303)\n",
      "2022-05-01 16:28:07.192942: I tensorflow/stream_executor/cuda/cuda_diagnostics.cc:156] kernel driver does not appear to be running on this host (synotech): /proc/driver/nvidia/version does not exist\n",
      "2022-05-01 16:28:07.193115: I tensorflow/core/platform/cpu_feature_guard.cc:151] This TensorFlow binary is optimized with oneAPI Deep Neural Network Library (oneDNN) to use the following CPU instructions in performance-critical operations:  AVX2 FMA\n",
      "To enable them in other operations, rebuild TensorFlow with the appropriate compiler flags.\n"
     ]
    }
   ],
   "source": [
    "#model\n",
    "model = Sequential()\n",
    "model.add(LSTM(units=96, return_sequences=True, input_shape=(x_train.shape[1], 1)))\n",
    "model.add(Dropout(0.2))\n",
    "model.add(LSTM(units=96,return_sequences=True))\n",
    "model.add(Dropout(0.2))\n",
    "model.add(LSTM(units=96,return_sequences=True))\n",
    "model.add(Dropout(0.2))\n",
    "model.add(LSTM(units=96))\n",
    "model.add(Dropout(0.2))\n",
    "model.add(Dense(units=1))"
   ]
  },
  {
   "cell_type": "code",
   "execution_count": 31,
   "id": "bbf28975",
   "metadata": {},
   "outputs": [],
   "source": [
    "x_train = np.reshape(x_train, (x_train.shape[0], x_train.shape[1], 1))\n",
    "x_test = np.reshape(x_test, (x_test.shape[0], x_test.shape[1], 1))"
   ]
  },
  {
   "cell_type": "code",
   "execution_count": 32,
   "id": "53a55d21",
   "metadata": {},
   "outputs": [],
   "source": [
    "model.compile(loss='mean_squared_error', optimizer='adam')"
   ]
  },
  {
   "cell_type": "code",
   "execution_count": 33,
   "id": "654781dd",
   "metadata": {},
   "outputs": [
    {
     "name": "stdout",
     "output_type": "stream",
     "text": [
      "Epoch 1/50\n",
      "59/59 [==============================] - 10s 85ms/step - loss: 0.0196\n",
      "Epoch 2/50\n",
      "59/59 [==============================] - 5s 87ms/step - loss: 0.0036\n",
      "Epoch 3/50\n",
      "59/59 [==============================] - 6s 98ms/step - loss: 0.0032\n",
      "Epoch 4/50\n",
      "59/59 [==============================] - 7s 116ms/step - loss: 0.0034\n",
      "Epoch 5/50\n",
      "59/59 [==============================] - 7s 113ms/step - loss: 0.0027\n",
      "Epoch 6/50\n",
      "59/59 [==============================] - 7s 113ms/step - loss: 0.0030\n",
      "Epoch 7/50\n",
      "59/59 [==============================] - 7s 112ms/step - loss: 0.0031\n",
      "Epoch 8/50\n",
      "59/59 [==============================] - 7s 114ms/step - loss: 0.0026\n",
      "Epoch 9/50\n",
      "59/59 [==============================] - 6s 108ms/step - loss: 0.0024\n",
      "Epoch 10/50\n",
      "59/59 [==============================] - 7s 112ms/step - loss: 0.0021\n",
      "Epoch 11/50\n",
      "59/59 [==============================] - 6s 106ms/step - loss: 0.0021\n",
      "Epoch 12/50\n",
      "59/59 [==============================] - 7s 116ms/step - loss: 0.0026\n",
      "Epoch 13/50\n",
      "59/59 [==============================] - 7s 115ms/step - loss: 0.0023\n",
      "Epoch 14/50\n",
      "59/59 [==============================] - 7s 113ms/step - loss: 0.0022\n",
      "Epoch 15/50\n",
      "59/59 [==============================] - 7s 114ms/step - loss: 0.0028\n",
      "Epoch 16/50\n",
      "59/59 [==============================] - 7s 118ms/step - loss: 0.0028\n",
      "Epoch 17/50\n",
      "59/59 [==============================] - 7s 113ms/step - loss: 0.0018\n",
      "Epoch 18/50\n",
      "59/59 [==============================] - 7s 119ms/step - loss: 0.0016\n",
      "Epoch 19/50\n",
      "59/59 [==============================] - 7s 113ms/step - loss: 0.0019\n",
      "Epoch 20/50\n",
      "59/59 [==============================] - 7s 115ms/step - loss: 0.0018\n",
      "Epoch 21/50\n",
      "59/59 [==============================] - 7s 114ms/step - loss: 0.0017\n",
      "Epoch 22/50\n",
      "59/59 [==============================] - 7s 115ms/step - loss: 0.0017\n",
      "Epoch 23/50\n",
      "59/59 [==============================] - 7s 115ms/step - loss: 0.0017\n",
      "Epoch 24/50\n",
      "59/59 [==============================] - 7s 114ms/step - loss: 0.0018\n",
      "Epoch 25/50\n",
      "59/59 [==============================] - 7s 114ms/step - loss: 0.0016\n",
      "Epoch 26/50\n",
      "59/59 [==============================] - 7s 120ms/step - loss: 0.0014\n",
      "Epoch 27/50\n",
      "59/59 [==============================] - 7s 114ms/step - loss: 0.0016\n",
      "Epoch 28/50\n",
      "59/59 [==============================] - 6s 107ms/step - loss: 0.0016\n",
      "Epoch 29/50\n",
      "59/59 [==============================] - 6s 101ms/step - loss: 0.0015\n",
      "Epoch 30/50\n",
      "59/59 [==============================] - 6s 104ms/step - loss: 0.0017\n",
      "Epoch 31/50\n",
      "59/59 [==============================] - 6s 109ms/step - loss: 0.0015\n",
      "Epoch 32/50\n",
      "59/59 [==============================] - 6s 109ms/step - loss: 0.0015\n",
      "Epoch 33/50\n",
      "59/59 [==============================] - 7s 121ms/step - loss: 0.0013\n",
      "Epoch 34/50\n",
      "59/59 [==============================] - 7s 111ms/step - loss: 0.0014\n",
      "Epoch 35/50\n",
      "59/59 [==============================] - 6s 103ms/step - loss: 0.0012\n",
      "Epoch 36/50\n",
      "59/59 [==============================] - 6s 102ms/step - loss: 0.0013\n",
      "Epoch 37/50\n",
      "59/59 [==============================] - 6s 104ms/step - loss: 0.0014\n",
      "Epoch 38/50\n",
      "59/59 [==============================] - 6s 110ms/step - loss: 0.0014\n",
      "Epoch 39/50\n",
      "59/59 [==============================] - 7s 113ms/step - loss: 0.0014\n",
      "Epoch 40/50\n",
      "59/59 [==============================] - 7s 110ms/step - loss: 0.0013\n",
      "Epoch 41/50\n",
      "59/59 [==============================] - 6s 105ms/step - loss: 0.0012\n",
      "Epoch 42/50\n",
      "59/59 [==============================] - 7s 114ms/step - loss: 0.0012\n",
      "Epoch 43/50\n",
      "59/59 [==============================] - 6s 103ms/step - loss: 0.0013\n",
      "Epoch 44/50\n",
      "59/59 [==============================] - 6s 101ms/step - loss: 0.0014\n",
      "Epoch 45/50\n",
      "59/59 [==============================] - 6s 100ms/step - loss: 0.0011\n",
      "Epoch 46/50\n",
      "59/59 [==============================] - 6s 106ms/step - loss: 0.0011\n",
      "Epoch 47/50\n",
      "59/59 [==============================] - 6s 110ms/step - loss: 0.0013\n",
      "Epoch 48/50\n",
      "59/59 [==============================] - 6s 107ms/step - loss: 0.0012\n",
      "Epoch 49/50\n",
      "59/59 [==============================] - 6s 109ms/step - loss: 0.0013\n",
      "Epoch 50/50\n",
      "59/59 [==============================] - 6s 104ms/step - loss: 0.0012\n"
     ]
    }
   ],
   "source": [
    "model.fit(x_train, y_train, epochs=50, batch_size=32)\n",
    "model.save('stock_prediction.h5')"
   ]
  },
  {
   "cell_type": "code",
   "execution_count": 34,
   "id": "8f8c69be",
   "metadata": {},
   "outputs": [],
   "source": [
    "model = load_model('stock_prediction.h5')"
   ]
  },
  {
   "cell_type": "code",
   "execution_count": 42,
   "id": "c55135d4",
   "metadata": {},
   "outputs": [
    {
     "data": {
      "text/plain": [
       "<matplotlib.legend.Legend at 0x7ff1d85ecb80>"
      ]
     },
     "execution_count": 42,
     "metadata": {},
     "output_type": "execute_result"
    },
    {
     "data": {
      "image/png": "[encoded data removed]",
      "text/plain": [
       "<Figure size 1152x576 with 1 Axes>"
      ]
     },
     "metadata": {
      "needs_background": "light"
     },
     "output_type": "display_data"
    }
   ],
   "source": [
    "predictions = model.predict(x_test)\n",
    "predictions = scaler.inverse_transform(predictions)\n",
    "y_test_scaled = scaler.inverse_transform(y_test.reshape(-1, 1))\n",
    "\n",
    "fig, ax = plt.subplots(figsize=(16,8))\n",
    "ax.set_facecolor('#000041')\n",
    "ax.plot(y_test_scaled, color='red', label='Original price')\n",
    "plt.plot(predictions, color='cyan', label='Predicted price')\n",
    "plt.xlabel('Time')\n",
    "plt.ylabel('Price')\n",
    "plt.legend()"
   ]
  },
  {
   "cell_type": "code",
   "execution_count": null,
   "id": "201bc26e",
   "metadata": {},
   "outputs": [],
   "source": []
  },
  {
   "cell_type": "code",
   "execution_count": null,
   "id": "3fbcc0f5",
   "metadata": {},
   "outputs": [],
   "source": []
  }
 ],
 "metadata": {
  "kernelspec": {
   "display_name": "Python 3 (ipykernel)",
   "language": "python",
   "name": "python3"
  },
  "language_info": {
   "codemirror_mode": {
    "name": "ipython",
    "version": 3
   },
   "file_extension": ".py",
   "mimetype": "text/x-python",
   "name": "python",
   "nbconvert_exporter": "python",
   "pygments_lexer": "ipython3",
   "version": "3.10.4"
  }
 },
 "nbformat": 4,
 "nbformat_minor": 5
}
